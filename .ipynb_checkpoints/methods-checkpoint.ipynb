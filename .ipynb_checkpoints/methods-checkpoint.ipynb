{
 "cells": [
  {
   "cell_type": "code",
   "execution_count": 17,
   "metadata": {},
   "outputs": [
    {
     "data": {
      "text/plain": [
       "['N', '', 'A', 'A', 'N']"
      ]
     },
     "execution_count": 17,
     "metadata": {},
     "output_type": "execute_result"
    }
   ],
   "source": [
    "#Groups aminoacid based on polarity/acidity\n",
    "def group(list):\n",
    "    grouped=[]\n",
    "    nonpolar=['G','A','V','L','I','P','F','W','M']\n",
    "    polar=['S','T','C','Y','N','Q']\n",
    "    basic=['K','R','H']\n",
    "    acidic=['D','E']\n",
    "    for item in list:\n",
    "        new_item=''\n",
    "        for letter in item:\n",
    "            if letter in nonpolar:\n",
    "                new_item+='N'\n",
    "            if letter in polar:\n",
    "                new_item+='P'\n",
    "            if letter in basic:\n",
    "                new_item+='B'\n",
    "            if letter in acidic:\n",
    "                new_item+='A'\n",
    "        grouped.append(new_item)\n",
    "    return grouped\n",
    "group('ABDEF')"
   ]
  },
  {
   "cell_type": "code",
   "execution_count": 3,
   "metadata": {},
   "outputs": [
    {
     "data": {
      "text/plain": [
       "{'A': 3,\n",
       " 'G': 0,\n",
       " 'V': 0,\n",
       " 'L': 0,\n",
       " 'I': 0,\n",
       " 'P': 0,\n",
       " 'F': 2,\n",
       " 'W': 0,\n",
       " 'M': 0,\n",
       " 'S': 0,\n",
       " 'T': 0,\n",
       " 'C': 1,\n",
       " 'Y': 0,\n",
       " 'N': 0,\n",
       " 'Q': 2,\n",
       " 'K': 0,\n",
       " 'R': 0,\n",
       " 'H': 0,\n",
       " 'D': 1,\n",
       " 'E': 0}"
      ]
     },
     "execution_count": 3,
     "metadata": {},
     "output_type": "execute_result"
    }
   ],
   "source": [
    "def get_letter_frequency(list):\n",
    "    letters={\n",
    "        'A':0,\n",
    "        'G':0,\n",
    "        'V':0,\n",
    "        'L':0,\n",
    "        'I':0,\n",
    "        'P':0,\n",
    "        'F':0,\n",
    "        'W':0,\n",
    "        'M':0,\n",
    "        'S':0,\n",
    "        'T':0,\n",
    "        'C':0,\n",
    "        'Y':0,\n",
    "        'N':0,\n",
    "        'Q':0,\n",
    "        'K':0,\n",
    "        'R':0,\n",
    "        'H':0,\n",
    "        'D':0,\n",
    "        'E':0\n",
    "    }\n",
    "    for word in list:\n",
    "        for letter in word:\n",
    "            letters[letter] +=1\n",
    "    return letters"
   ]
  },
  {
   "cell_type": "markdown",
   "metadata": {},
   "source": [
    "### Return the intersection of all files in a folder"
   ]
  },
  {
   "cell_type": "code",
   "execution_count": 45,
   "metadata": {},
   "outputs": [
    {
     "data": {
      "text/html": [
       "<div>\n",
       "<style scoped>\n",
       "    .dataframe tbody tr th:only-of-type {\n",
       "        vertical-align: middle;\n",
       "    }\n",
       "\n",
       "    .dataframe tbody tr th {\n",
       "        vertical-align: top;\n",
       "    }\n",
       "\n",
       "    .dataframe thead th {\n",
       "        text-align: right;\n",
       "    }\n",
       "</style>\n",
       "<table border=\"1\" class=\"dataframe\">\n",
       "  <thead>\n",
       "    <tr style=\"text-align: right;\">\n",
       "      <th></th>\n",
       "      <th>Peptide</th>\n",
       "      <th>Accession</th>\n",
       "      <th>Mass</th>\n",
       "      <th>RT</th>\n",
       "      <th>Length</th>\n",
       "      <th>#Feature</th>\n",
       "    </tr>\n",
       "  </thead>\n",
       "  <tbody>\n",
       "    <tr>\n",
       "      <th>0</th>\n",
       "      <td>TYFPHFDLSHGSAQV</td>\n",
       "      <td>sp|P69905|HBA_HUMAN</td>\n",
       "      <td>1704.7896</td>\n",
       "      <td>73.91</td>\n",
       "      <td>15</td>\n",
       "      <td>4</td>\n",
       "    </tr>\n",
       "    <tr>\n",
       "      <th>1</th>\n",
       "      <td>YFPHFDLSHGSAQV</td>\n",
       "      <td>sp|P69905|HBA_HUMAN</td>\n",
       "      <td>1603.7419</td>\n",
       "      <td>68.07</td>\n",
       "      <td>14</td>\n",
       "      <td>4</td>\n",
       "    </tr>\n",
       "    <tr>\n",
       "      <th>2</th>\n",
       "      <td>FDTASTGKTFPGFFSPM(+15.99)</td>\n",
       "      <td>sp|P02671|FIBA_HUMAN</td>\n",
       "      <td>1852.8341</td>\n",
       "      <td>97.05</td>\n",
       "      <td>17</td>\n",
       "      <td>5</td>\n",
       "    </tr>\n",
       "    <tr>\n",
       "      <th>3</th>\n",
       "      <td>YTGIFTDQVLSVLKGEE</td>\n",
       "      <td>sp|P02655|APOC2_HUMAN</td>\n",
       "      <td>1897.9673</td>\n",
       "      <td>111.04</td>\n",
       "      <td>17</td>\n",
       "      <td>5</td>\n",
       "    </tr>\n",
       "    <tr>\n",
       "      <th>4</th>\n",
       "      <td>AALLSPYSYSTTAVVTNPKE</td>\n",
       "      <td>sp|P02766|TTHY_HUMAN</td>\n",
       "      <td>2111.0786</td>\n",
       "      <td>76.19</td>\n",
       "      <td>20</td>\n",
       "      <td>5</td>\n",
       "    </tr>\n",
       "    <tr>\n",
       "      <th>...</th>\n",
       "      <td>...</td>\n",
       "      <td>...</td>\n",
       "      <td>...</td>\n",
       "      <td>...</td>\n",
       "      <td>...</td>\n",
       "      <td>...</td>\n",
       "    </tr>\n",
       "    <tr>\n",
       "      <th>857</th>\n",
       "      <td>LEEKPAVPVPER</td>\n",
       "      <td>sp|Q8WZ42|TITIN_HUMAN</td>\n",
       "      <td>1362.7506</td>\n",
       "      <td>16.61</td>\n",
       "      <td>12</td>\n",
       "      <td>2</td>\n",
       "    </tr>\n",
       "    <tr>\n",
       "      <th>858</th>\n",
       "      <td>DEVGGEALGRL</td>\n",
       "      <td>sp|P68871|HBB_HUMAN</td>\n",
       "      <td>1114.5618</td>\n",
       "      <td>48.29</td>\n",
       "      <td>11</td>\n",
       "      <td>2</td>\n",
       "    </tr>\n",
       "    <tr>\n",
       "      <th>859</th>\n",
       "      <td>SEETKENEGFTVT</td>\n",
       "      <td>sp|P01024|CO3_HUMAN</td>\n",
       "      <td>1469.6521</td>\n",
       "      <td>19.01</td>\n",
       "      <td>13</td>\n",
       "      <td>2</td>\n",
       "    </tr>\n",
       "    <tr>\n",
       "      <th>860</th>\n",
       "      <td>GGHLDQQ(+.98)VEEF</td>\n",
       "      <td>sp|P06727|APOA4_HUMAN</td>\n",
       "      <td>1258.5465</td>\n",
       "      <td>40.69</td>\n",
       "      <td>11</td>\n",
       "      <td>2</td>\n",
       "    </tr>\n",
       "    <tr>\n",
       "      <th>861</th>\n",
       "      <td>HGPEILDVPSTV</td>\n",
       "      <td>sp|P02751|FINC_HUMAN</td>\n",
       "      <td>1262.6506</td>\n",
       "      <td>64.36</td>\n",
       "      <td>12</td>\n",
       "      <td>3</td>\n",
       "    </tr>\n",
       "  </tbody>\n",
       "</table>\n",
       "<p>862 rows × 6 columns</p>\n",
       "</div>"
      ],
      "text/plain": [
       "                       Peptide              Accession       Mass      RT  \\\n",
       "0              TYFPHFDLSHGSAQV    sp|P69905|HBA_HUMAN  1704.7896   73.91   \n",
       "1               YFPHFDLSHGSAQV    sp|P69905|HBA_HUMAN  1603.7419   68.07   \n",
       "2    FDTASTGKTFPGFFSPM(+15.99)   sp|P02671|FIBA_HUMAN  1852.8341   97.05   \n",
       "3            YTGIFTDQVLSVLKGEE  sp|P02655|APOC2_HUMAN  1897.9673  111.04   \n",
       "4         AALLSPYSYSTTAVVTNPKE   sp|P02766|TTHY_HUMAN  2111.0786   76.19   \n",
       "..                         ...                    ...        ...     ...   \n",
       "857               LEEKPAVPVPER  sp|Q8WZ42|TITIN_HUMAN  1362.7506   16.61   \n",
       "858                DEVGGEALGRL    sp|P68871|HBB_HUMAN  1114.5618   48.29   \n",
       "859              SEETKENEGFTVT    sp|P01024|CO3_HUMAN  1469.6521   19.01   \n",
       "860          GGHLDQQ(+.98)VEEF  sp|P06727|APOA4_HUMAN  1258.5465   40.69   \n",
       "861               HGPEILDVPSTV   sp|P02751|FINC_HUMAN  1262.6506   64.36   \n",
       "\n",
       "     Length  #Feature  \n",
       "0        15         4  \n",
       "1        14         4  \n",
       "2        17         5  \n",
       "3        17         5  \n",
       "4        20         5  \n",
       "..      ...       ...  \n",
       "857      12         2  \n",
       "858      11         2  \n",
       "859      13         2  \n",
       "860      11         2  \n",
       "861      12         3  \n",
       "\n",
       "[862 rows x 6 columns]"
      ]
     },
     "execution_count": 45,
     "metadata": {},
     "output_type": "execute_result"
    }
   ],
   "source": [
    "import pandas as pd\n",
    "import matplotlib.pyplot as plt\n",
    "import os\n",
    "import xlrd\n",
    "import numpy as np\n",
    "\n",
    "# gets the intersection of files (i.e; what's in all files )\n",
    "mapp='WF'\n",
    "files = os.listdir(mapp)\n",
    "# gets all xlsx files in cwd\n",
    "files_xlsx = [f for f in files if f[-4:] == 'xlsx']\n",
    "df = pd.DataFrame()\n",
    "i=0\n",
    "for file in files_xlsx:\n",
    "    if i==0:\n",
    "        data = pd.read_excel(mapp+ '/' +file, 'peptide')\n",
    "        df = df.append(data)\n",
    "        i=i+1\n",
    "    else: \n",
    "        data = pd.read_excel(mapp+ '/' +file, 'peptide')\n",
    "        df=df.merge(data, how='inner', on='Peptide')\n",
    "df=df[['Peptide','Accession','Mass','RT','Length','#Feature']]\n",
    "df"
   ]
  },
  {
   "cell_type": "code",
   "execution_count": 169,
   "metadata": {},
   "outputs": [
    {
     "data": {
      "text/html": [
       "<div>\n",
       "<style scoped>\n",
       "    .dataframe tbody tr th:only-of-type {\n",
       "        vertical-align: middle;\n",
       "    }\n",
       "\n",
       "    .dataframe tbody tr th {\n",
       "        vertical-align: top;\n",
       "    }\n",
       "\n",
       "    .dataframe thead th {\n",
       "        text-align: right;\n",
       "    }\n",
       "</style>\n",
       "<table border=\"1\" class=\"dataframe\">\n",
       "  <thead>\n",
       "    <tr style=\"text-align: right;\">\n",
       "      <th></th>\n",
       "      <th>Mass</th>\n",
       "      <th>RT</th>\n",
       "      <th>Length</th>\n",
       "      <th>#Feature</th>\n",
       "      <th>count</th>\n",
       "    </tr>\n",
       "    <tr>\n",
       "      <th>Peptide</th>\n",
       "      <th></th>\n",
       "      <th></th>\n",
       "      <th></th>\n",
       "      <th></th>\n",
       "      <th></th>\n",
       "    </tr>\n",
       "  </thead>\n",
       "  <tbody>\n",
       "  </tbody>\n",
       "</table>\n",
       "</div>"
      ],
      "text/plain": [
       "Empty DataFrame\n",
       "Columns: [Mass, RT, Length, #Feature, count]\n",
       "Index: []"
      ]
     },
     "execution_count": 169,
     "metadata": {},
     "output_type": "execute_result"
    }
   ],
   "source": [
    "import pandas as pd\n",
    "import matplotlib.pyplot as plt\n",
    "import os\n",
    "import xlrd\n",
    "import numpy as np\n",
    "\n",
    "# gets the intersection of files (i.e; what's in all files )\n",
    "mapp='peptide_sample_inf'\n",
    "files = os.listdir(mapp)\n",
    "# gets all xlsx files in cwd\n",
    "files_xlsx = [f for f in files if f[-4:] == 'xlsx']\n",
    "df = pd.DataFrame()\n",
    "i=0\n",
    "for file in files_xlsx:\n",
    "    data = pd.read_excel(mapp+ '/' +file, 'peptide')\n",
    "    df = df.append(data)\n",
    "\n",
    "df=df[['Peptide','Accession','Mass','RT','Length','#Feature']]\n",
    "df['count'] = 1\n",
    "df = df.groupby(['Peptide']).sum()\n",
    "df_inter = df.loc[(df['count'] == 5)] #intersection\n",
    "df_sym = df.loc[(df['count'] == 1)] #symmetric difference\n",
    "df_inter"
   ]
  },
  {
   "cell_type": "code",
   "execution_count": 310,
   "metadata": {},
   "outputs": [
    {
     "data": {
      "text/plain": [
       "[2298, 1255, 876, 417, 381, 230, 198, 162, 123, 114, 1050]"
      ]
     },
     "execution_count": 310,
     "metadata": {},
     "output_type": "execute_result"
    }
   ],
   "source": [
    "import pandas as pd\n",
    "import matplotlib.pyplot as plt\n",
    "import os\n",
    "import xlrd\n",
    "import numpy as np\n",
    "from matplotlib_venn import venn2, venn3\n",
    "import openpyxl\n",
    "import seaborn as sns\n",
    "\n",
    "def slicydicy(word):\n",
    "    word= word.split('|')[2]\n",
    "    word=word.split(':')[0]\n",
    "    word=word.split('_')[0]\n",
    "    return word\n",
    "\n",
    "mapp='peptide_sample_ninf'\n",
    "files = os.listdir(mapp)\n",
    "# gets all xlsx files in cwd\n",
    "files_xlsx = [f for f in files if f[-4:] == 'xlsx']\n",
    "df = pd.DataFrame()\n",
    "for file in files_xlsx:\n",
    "    data = pd.read_excel(mapp+ '/' +file, 'peptide')\n",
    "    data=data.loc[data['#Feature']>=4]\n",
    "    df = df.append(data)\n",
    "\n",
    "df.dropna(subset=['Accession'], inplace=True, how='any')\n",
    "df.reset_index(drop=True)\n",
    "df['count'] = 1\n",
    "df['Accession']=df['Accession'].apply(lambda x: slicydicy(x))\n",
    "df = df.groupby(['Accession']).sum()\n",
    "tot=df['#Feature'].sum()\n",
    "df=df.sort_values(['#Feature'], ascending=False)[0:30]\n",
    "df=df['#Feature']\n",
    "df_misc=df[10:len(df)]\n",
    "df_imp=df[0:10]\n",
    "df_list_imp=list(df_imp)\n",
    "other =df_misc.sum()\n",
    "df_list_imp.append(other)\n",
    "df_list_imp"
   ]
  },
  {
   "cell_type": "code",
   "execution_count": 308,
   "metadata": {},
   "outputs": [
    {
     "data": {
      "text/plain": [
       "['FIBA',\n",
       " 'HBA',\n",
       " 'APOA4',\n",
       " 'A1AT',\n",
       " 'APOB',\n",
       " 'ITIH4',\n",
       " 'APOA1',\n",
       " 'HBB',\n",
       " 'G3P',\n",
       " 'APOC2',\n",
       " 'Other']"
      ]
     },
     "execution_count": 308,
     "metadata": {},
     "output_type": "execute_result"
    }
   ],
   "source": [
    "colors=['#CF004A',\n",
    "'#6E6A86'\n",
    ",'#8967D9',\n",
    "'#39A07D',\n",
    "'#9DB5D9',\n",
    "'#54BB66',\n",
    "'#674BC2',\n",
    "'#C0C8D6',\n",
    "'#D785CC',\n",
    "'#3DB122',\n",
    "'#C35316',\n",
    "'#C690E9']\n",
    "df_misc.sum()\n",
    "len(df_imp)\n",
    "test =(list(df_imp.keys()))\n",
    "test.append('Other')\n",
    "test"
   ]
  },
  {
   "cell_type": "code",
   "execution_count": 311,
   "metadata": {},
   "outputs": [
    {
     "data": {
      "text/plain": [
       "Text(0.5, 1.0, 'Ninf')"
      ]
     },
     "execution_count": 311,
     "metadata": {},
     "output_type": "execute_result"
    },
    {
     "data": {
      "image/png": "[encoded data removed]",
      "text/plain": [
       "<Figure size 432x288 with 1 Axes>"
      ]
     },
     "metadata": {},
     "output_type": "display_data"
    }
   ],
   "source": [
    "wp = { 'linewidth' : 0.5, 'edgecolor' : \"#afabb3\" } \n",
    "plt.pie(list(df_list_imp),labels = test , wedgeprops=wp, rotatelabels=True, colors=colors) \n",
    "plt.title('Ninf')"
   ]
  },
  {
   "cell_type": "code",
   "execution_count": 305,
   "metadata": {},
   "outputs": [
    {
     "data": {
      "text/plain": [
       "Text(0.5, 1.0, 'Inf')"
      ]
     },
     "execution_count": 305,
     "metadata": {},
     "output_type": "execute_result"
    },
    {
     "data": {
      "image/png": "[encoded data removed]",
      "text/plain": [
       "<Figure size 432x288 with 1 Axes>"
      ]
     },
     "metadata": {},
     "output_type": "display_data"
    }
   ],
   "source": [
    "wp = { 'linewidth' : 0.5, 'edgecolor' : \"#afabb3\" } \n",
    "plt.pie(list(df_list_imp),labels = test , wedgeprops=wp, rotatelabels=True, colors=colors,startangle= 5 ) \n",
    "plt.title('Inf')"
   ]
  },
  {
   "cell_type": "code",
   "execution_count": 309,
   "metadata": {},
   "outputs": [
    {
     "data": {
      "text/plain": [
       "Text(0.5, 1.0, 'WF')"
      ]
     },
     "execution_count": 309,
     "metadata": {},
     "output_type": "execute_result"
    },
    {
     "data": {
      "image/png": "[encoded data removed]",
      "text/plain": [
       "<Figure size 432x288 with 1 Axes>"
      ]
     },
     "metadata": {},
     "output_type": "display_data"
    }
   ],
   "source": [
    "wp = { 'linewidth' : 0.5, 'edgecolor' : \"#afabb3\" } \n",
    "plt.pie(list(df_list_imp),labels = test , wedgeprops=wp, rotatelabels=True, colors=colors) \n",
    "plt.title('WF')"
   ]
  },
  {
   "cell_type": "code",
   "execution_count": 302,
   "metadata": {},
   "outputs": [
    {
     "data": {
      "text/plain": [
       "'oooh'"
      ]
     },
     "execution_count": 302,
     "metadata": {},
     "output_type": "execute_result"
    }
   ],
   "source": [
    "testing='sp|asda|oooh_hehe'\n",
    "testing=testing.split('|')[2]\n",
    "testing.split('_')[0]"
   ]
  }
 ],
 "metadata": {
  "kernelspec": {
   "display_name": "Python 3",
   "language": "python",
   "name": "python3"
  },
  "language_info": {
   "codemirror_mode": {
    "name": "ipython",
    "version": 3
   },
   "file_extension": ".py",
   "mimetype": "text/x-python",
   "name": "python",
   "nbconvert_exporter": "python",
   "pygments_lexer": "ipython3",
   "version": "3.7.7"
  }
 },
 "nbformat": 4,
 "nbformat_minor": 4
}
