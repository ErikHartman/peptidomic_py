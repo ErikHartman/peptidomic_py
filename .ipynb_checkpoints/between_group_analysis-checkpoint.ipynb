{
 "cells": [
  {
   "cell_type": "code",
   "execution_count": 1,
   "metadata": {},
   "outputs": [],
   "source": [
    "import pandas as pd\n",
    "import matplotlib.pyplot as plt\n",
    "import os\n",
    "import xlrd\n",
    "import numpy as np\n",
    "from matplotlib_venn import venn2, venn3\n",
    "import openpyxl\n",
    "import seaborn as sns\n",
    "from openpyxl import load_workbook"
   ]
  },
  {
   "cell_type": "code",
   "execution_count": 2,
   "metadata": {},
   "outputs": [
    {
     "name": "stdout",
     "output_type": "stream",
     "text": [
      "peptide _WF1.xlsx: 811\n",
      "peptide_WF2.xlsx: 934\n",
      "peptide_WF3.xlsx: 900\n",
      "peptide_WF4.xlsx: 572\n",
      "peptide_WF5.xlsx: 846\n"
     ]
    }
   ],
   "source": [
    "mapp='WF'\n",
    "files = os.listdir(mapp)\n",
    "# gets all xlsx files in cwd\n",
    "files_xlsx = [f for f in files if f[-4:] == 'xlsx']\n",
    "df_WF = pd.DataFrame()\n",
    "WF_samples=[]\n",
    "for file in files_xlsx:\n",
    "    data = pd.read_excel(mapp+ '/' +file, 'peptide')\n",
    "    data['Accession'].fillna(\"Not available\", inplace = True) \n",
    "    data['Peptide']=data['Peptide'].str.replace('[^a-zA-Z]','')\n",
    "    data = data.loc[(data['#Feature'] >= 4)]\n",
    "    data['count']=1\n",
    "    data = data.groupby(['Peptide','Accession'], as_index=False).sum() \n",
    "    data['Mass']=data['Mass']/data['count']\n",
    "    data['Length']=data['Length']/data['count']\n",
    "    data['RT']=data['RT']/data['count']\n",
    "    df_WF = df_WF.append(data)  # appends all data\n",
    "    print(file+': '+str(len(data['Peptide'])))\n",
    "    WF_samples.append(data['Peptide'])\n",
    "\n",
    "mapp='peptide_sample_ninf'\n",
    "files = os.listdir(mapp)\n",
    "# gets all xlsx files in cwd\n",
    "files_xlsx = [f for f in files if f[-4:] == 'xlsx']\n",
    "df_ninf = pd.DataFrame()\n",
    "non_inf_patients=[]\n",
    "for file in files_xlsx:\n",
    "    data = pd.read_excel(mapp+ '/' +file, 'peptide')\n",
    "    data['Accession'].fillna(\"Not available\", inplace = True) \n",
    "    data['Peptide']=data['Peptide'].str.replace('[^a-zA-Z]','')\n",
    "    data['count']=1\n",
    "    data = data.loc[(data['#Feature'] >= 4)] \n",
    "    data = data.groupby(['Peptide','Accession'], as_index=False).sum()\n",
    "    data['Mass']=data['Mass']/data['count']\n",
    "    data['Length']=data['Length']/data['count']\n",
    "    data['RT']=data['RT']/data['count']\n",
    "    df_ninf = df_ninf.append(data)  # appends all data\n",
    "    non_inf_patients.append(data['Peptide'])\n",
    "\n",
    "mapp='peptide_sample_inf'\n",
    "files = os.listdir(mapp)\n",
    "# gets all xlsx files in cwd\n",
    "files_xlsx = [f for f in files if f[-4:] == 'xlsx']\n",
    "df_inf = pd.DataFrame()\n",
    "inf_patients=[]\n",
    "for file in files_xlsx:\n",
    "    data = pd.read_excel(mapp+ '/' +file, 'peptide')\n",
    "    data['Accession'].fillna(\"Not available\", inplace = True) \n",
    "    data['Peptide']=data['Peptide'].str.replace('[^a-zA-Z]','')\n",
    "    data['count']=1\n",
    "    data = data.loc[(data['#Feature'] >= 4)] \n",
    "    data = data.groupby(['Peptide','Accession'], as_index=False).sum()\n",
    "    data['Mass']=data['Mass']/data['count']\n",
    "    data['Length']=data['Length']/data['count']\n",
    "    data['RT']=data['RT']/data['count']\n",
    "    df_inf = df_inf.append(data)  # appends all data\n",
    "    inf_patients.append(data['Peptide'])\n",
    "\n",
    "df_ninf['count'] = 1\n",
    "df_WF['count'] = 1\n",
    "df_inf['count']=1\n"
   ]
  },
  {
   "cell_type": "code",
   "execution_count": 3,
   "metadata": {},
   "outputs": [
    {
     "data": {
      "image/png": "[encoded data removed]",
      "text/plain": [
       "<Figure size 432x288 with 1 Axes>"
      ]
     },
     "metadata": {},
     "output_type": "display_data"
    }
   ],
   "source": [
    "color=['#10cafa','#fc60ae','#55ab5f']\n",
    "v=venn3([set(non_inf_patients[0]),set(non_inf_patients[1]),set(non_inf_patients[2])], set_labels=('Pat 13','Pat 21','Pat 33'), set_colors=color)"
   ]
  },
  {
   "cell_type": "code",
   "execution_count": 4,
   "metadata": {},
   "outputs": [
    {
     "data": {
      "text/plain": [
       "<matplotlib_venn._common.VennDiagram at 0x12b3bdb8408>"
      ]
     },
     "execution_count": 4,
     "metadata": {},
     "output_type": "execute_result"
    },
    {
     "data": {
      "image/png": "[encoded data removed]",
      "text/plain": [
       "<Figure size 432x288 with 1 Axes>"
      ]
     },
     "metadata": {},
     "output_type": "display_data"
    }
   ],
   "source": [
    "venn3([set(inf_patients[0]),set(inf_patients[1]),set(inf_patients[2])], set_labels=('Pat 31', 'Pat 34','Pat 39'), set_colors=color)"
   ]
  },
  {
   "cell_type": "code",
   "execution_count": 5,
   "metadata": {},
   "outputs": [],
   "source": [
    "#Wound fluid\n",
    "df_WF_all=pd.DataFrame()\n",
    "df_WF_all['Peptide']=df_WF['Peptide']\n",
    "df_WF = df_WF.groupby(['Accession','Peptide']).sum()\n",
    "df_WF.reset_index(['Peptide'], inplace=True)\n",
    "df_WF = df_WF[['Peptide', '#Feature', '#Feature WF1','#Feature WF2', '#Feature WF 3', '#Feature WF4','#Feature WF5','count']]\n",
    "df_WF = df_WF.sort_values(['count','#Feature'], ascending=False)\n",
    "\n",
    "#Non-infected patients\n",
    "df_ninf_all=pd.DataFrame()\n",
    "df_ninf_all['Peptide']=df_ninf['Peptide']\n",
    "\n",
    "df_ninf = df_ninf.groupby(['Accession','Peptide']).sum()\n",
    "df_ninf.reset_index(['Peptide'], inplace=True)\n",
    "df_ninf = df_ninf[['Peptide','#Feature','#Feature Sample 13', '#Feature Sample 21', '#Feature Sample 33','count',]]\n",
    "df_ninf = df_ninf.sort_values(['count','#Feature'], ascending=False)\n",
    "\n",
    "#infected patients\n",
    "df_inf_all=pd.DataFrame()\n",
    "df_inf_all['Peptide']=df_inf['Peptide']\n",
    "\n",
    "df_inf = df_inf.groupby(['Accession','Peptide']).sum()\n",
    "df_inf.reset_index(['Peptide'], inplace=True)\n",
    "df_inf = df_inf[['Peptide','#Feature','#Feature Sample 31', '#Feature Sample 34', '#Feature Sample 39','count',]]\n",
    "df_inf = df_inf.sort_values(['count','#Feature'], ascending=False)"
   ]
  },
  {
   "cell_type": "code",
   "execution_count": 6,
   "metadata": {},
   "outputs": [
    {
     "data": {
      "text/html": [
       "<div>\n",
       "<style scoped>\n",
       "    .dataframe tbody tr th:only-of-type {\n",
       "        vertical-align: middle;\n",
       "    }\n",
       "\n",
       "    .dataframe tbody tr th {\n",
       "        vertical-align: top;\n",
       "    }\n",
       "\n",
       "    .dataframe thead th {\n",
       "        text-align: right;\n",
       "    }\n",
       "</style>\n",
       "<table border=\"1\" class=\"dataframe\">\n",
       "  <thead>\n",
       "    <tr style=\"text-align: right;\">\n",
       "      <th></th>\n",
       "      <th>Peptide</th>\n",
       "      <th>#Feature</th>\n",
       "      <th>#Feature WF1</th>\n",
       "      <th>#Feature WF2</th>\n",
       "      <th>#Feature WF 3</th>\n",
       "      <th>#Feature WF4</th>\n",
       "      <th>#Feature WF5</th>\n",
       "      <th>count</th>\n",
       "    </tr>\n",
       "    <tr>\n",
       "      <th>Accession</th>\n",
       "      <th></th>\n",
       "      <th></th>\n",
       "      <th></th>\n",
       "      <th></th>\n",
       "      <th></th>\n",
       "      <th></th>\n",
       "      <th></th>\n",
       "      <th></th>\n",
       "    </tr>\n",
       "  </thead>\n",
       "  <tbody>\n",
       "    <tr>\n",
       "      <th>sp|Q04206|TF65_HUMAN</th>\n",
       "      <td>PSLQAPVR</td>\n",
       "      <td>160</td>\n",
       "      <td>23.0</td>\n",
       "      <td>8.0</td>\n",
       "      <td>38.0</td>\n",
       "      <td>52.0</td>\n",
       "      <td>38.0</td>\n",
       "      <td>5</td>\n",
       "    </tr>\n",
       "    <tr>\n",
       "      <th>sp|P04406|G3P_HUMAN</th>\n",
       "      <td>AVGKVIPELNGKLTGMAF</td>\n",
       "      <td>65</td>\n",
       "      <td>12.0</td>\n",
       "      <td>12.0</td>\n",
       "      <td>16.0</td>\n",
       "      <td>18.0</td>\n",
       "      <td>7.0</td>\n",
       "      <td>5</td>\n",
       "    </tr>\n",
       "    <tr>\n",
       "      <th>sp|P06727|APOA4_HUMAN</th>\n",
       "      <td>NHQLEGLTF</td>\n",
       "      <td>58</td>\n",
       "      <td>9.0</td>\n",
       "      <td>11.0</td>\n",
       "      <td>10.0</td>\n",
       "      <td>15.0</td>\n",
       "      <td>13.0</td>\n",
       "      <td>5</td>\n",
       "    </tr>\n",
       "    <tr>\n",
       "      <th>sp|Q14624|ITIH4_HUMAN</th>\n",
       "      <td>NFRPGVL</td>\n",
       "      <td>58</td>\n",
       "      <td>13.0</td>\n",
       "      <td>13.0</td>\n",
       "      <td>14.0</td>\n",
       "      <td>6.0</td>\n",
       "      <td>12.0</td>\n",
       "      <td>5</td>\n",
       "    </tr>\n",
       "    <tr>\n",
       "      <th>sp|Q14624|ITIH4_HUMAN</th>\n",
       "      <td>SRQLGLPGPPDVPDHA</td>\n",
       "      <td>56</td>\n",
       "      <td>12.0</td>\n",
       "      <td>14.0</td>\n",
       "      <td>11.0</td>\n",
       "      <td>8.0</td>\n",
       "      <td>11.0</td>\n",
       "      <td>5</td>\n",
       "    </tr>\n",
       "    <tr>\n",
       "      <th>...</th>\n",
       "      <td>...</td>\n",
       "      <td>...</td>\n",
       "      <td>...</td>\n",
       "      <td>...</td>\n",
       "      <td>...</td>\n",
       "      <td>...</td>\n",
       "      <td>...</td>\n",
       "      <td>...</td>\n",
       "    </tr>\n",
       "    <tr>\n",
       "      <th>sp|P35579|MYH9_HUMAN</th>\n",
       "      <td>DLPFVVPR</td>\n",
       "      <td>20</td>\n",
       "      <td>4.0</td>\n",
       "      <td>4.0</td>\n",
       "      <td>4.0</td>\n",
       "      <td>4.0</td>\n",
       "      <td>4.0</td>\n",
       "      <td>5</td>\n",
       "    </tr>\n",
       "    <tr>\n",
       "      <th>sp|P69905|HBA_HUMAN</th>\n",
       "      <td>FPHFDLS</td>\n",
       "      <td>20</td>\n",
       "      <td>4.0</td>\n",
       "      <td>4.0</td>\n",
       "      <td>4.0</td>\n",
       "      <td>4.0</td>\n",
       "      <td>4.0</td>\n",
       "      <td>5</td>\n",
       "    </tr>\n",
       "    <tr>\n",
       "      <th>sp|P69905|HBA_HUMAN</th>\n",
       "      <td>MFLSFPTTK</td>\n",
       "      <td>20</td>\n",
       "      <td>4.0</td>\n",
       "      <td>4.0</td>\n",
       "      <td>4.0</td>\n",
       "      <td>4.0</td>\n",
       "      <td>4.0</td>\n",
       "      <td>5</td>\n",
       "    </tr>\n",
       "    <tr>\n",
       "      <th>sp|Q13790|APOF_HUMAN</th>\n",
       "      <td>DLDPGAGSLEI</td>\n",
       "      <td>20</td>\n",
       "      <td>4.0</td>\n",
       "      <td>4.0</td>\n",
       "      <td>4.0</td>\n",
       "      <td>4.0</td>\n",
       "      <td>4.0</td>\n",
       "      <td>5</td>\n",
       "    </tr>\n",
       "    <tr>\n",
       "      <th>sp|Q14624|ITIH4_HUMAN</th>\n",
       "      <td>GLPGPPDVPDH</td>\n",
       "      <td>20</td>\n",
       "      <td>4.0</td>\n",
       "      <td>4.0</td>\n",
       "      <td>4.0</td>\n",
       "      <td>4.0</td>\n",
       "      <td>4.0</td>\n",
       "      <td>5</td>\n",
       "    </tr>\n",
       "  </tbody>\n",
       "</table>\n",
       "<p>132 rows × 8 columns</p>\n",
       "</div>"
      ],
      "text/plain": [
       "                                  Peptide  #Feature  #Feature WF1  \\\n",
       "Accession                                                           \n",
       "sp|Q04206|TF65_HUMAN             PSLQAPVR       160          23.0   \n",
       "sp|P04406|G3P_HUMAN    AVGKVIPELNGKLTGMAF        65          12.0   \n",
       "sp|P06727|APOA4_HUMAN           NHQLEGLTF        58           9.0   \n",
       "sp|Q14624|ITIH4_HUMAN             NFRPGVL        58          13.0   \n",
       "sp|Q14624|ITIH4_HUMAN    SRQLGLPGPPDVPDHA        56          12.0   \n",
       "...                                   ...       ...           ...   \n",
       "sp|P35579|MYH9_HUMAN             DLPFVVPR        20           4.0   \n",
       "sp|P69905|HBA_HUMAN               FPHFDLS        20           4.0   \n",
       "sp|P69905|HBA_HUMAN             MFLSFPTTK        20           4.0   \n",
       "sp|Q13790|APOF_HUMAN          DLDPGAGSLEI        20           4.0   \n",
       "sp|Q14624|ITIH4_HUMAN         GLPGPPDVPDH        20           4.0   \n",
       "\n",
       "                       #Feature WF2  #Feature WF 3  #Feature WF4  \\\n",
       "Accession                                                          \n",
       "sp|Q04206|TF65_HUMAN            8.0           38.0          52.0   \n",
       "sp|P04406|G3P_HUMAN            12.0           16.0          18.0   \n",
       "sp|P06727|APOA4_HUMAN          11.0           10.0          15.0   \n",
       "sp|Q14624|ITIH4_HUMAN          13.0           14.0           6.0   \n",
       "sp|Q14624|ITIH4_HUMAN          14.0           11.0           8.0   \n",
       "...                             ...            ...           ...   \n",
       "sp|P35579|MYH9_HUMAN            4.0            4.0           4.0   \n",
       "sp|P69905|HBA_HUMAN             4.0            4.0           4.0   \n",
       "sp|P69905|HBA_HUMAN             4.0            4.0           4.0   \n",
       "sp|Q13790|APOF_HUMAN            4.0            4.0           4.0   \n",
       "sp|Q14624|ITIH4_HUMAN           4.0            4.0           4.0   \n",
       "\n",
       "                       #Feature WF5  count  \n",
       "Accession                                   \n",
       "sp|Q04206|TF65_HUMAN           38.0      5  \n",
       "sp|P04406|G3P_HUMAN             7.0      5  \n",
       "sp|P06727|APOA4_HUMAN          13.0      5  \n",
       "sp|Q14624|ITIH4_HUMAN          12.0      5  \n",
       "sp|Q14624|ITIH4_HUMAN          11.0      5  \n",
       "...                             ...    ...  \n",
       "sp|P35579|MYH9_HUMAN            4.0      5  \n",
       "sp|P69905|HBA_HUMAN             4.0      5  \n",
       "sp|P69905|HBA_HUMAN             4.0      5  \n",
       "sp|Q13790|APOF_HUMAN            4.0      5  \n",
       "sp|Q14624|ITIH4_HUMAN           4.0      5  \n",
       "\n",
       "[132 rows x 8 columns]"
      ]
     },
     "execution_count": 6,
     "metadata": {},
     "output_type": "execute_result"
    }
   ],
   "source": [
    "df_ninf_same=df_ninf.loc[(df_ninf['count']==3)]\n",
    "df_WF_same=df_WF.loc[(df_WF['count']==5)]\n",
    "\n",
    "df_WF_ninf=df_WF_same.append(df_ninf_same)\n",
    "df_WF_ninf.reset_index()\n",
    "df_WF_ninf=df_WF_ninf.groupby(['Accession','Peptide']).sum()\n",
    "df_WF_ninf.sort_values(['count','#Feature'], ascending=False)\n",
    "df_WF_same"
   ]
  },
  {
   "cell_type": "code",
   "execution_count": 7,
   "metadata": {},
   "outputs": [
    {
     "data": {
      "text/plain": [
       "Text(0.5, 1.0, 'WF intersection as part of total WF')"
      ]
     },
     "execution_count": 7,
     "metadata": {},
     "output_type": "execute_result"
    },
    {
     "data": {
      "image/png": "[encoded data removed]",
      "text/plain": [
       "<Figure size 432x288 with 1 Axes>"
      ]
     },
     "metadata": {},
     "output_type": "display_data"
    }
   ],
   "source": [
    "venn2([set(df_WF_all['Peptide']), set(df_WF_same['Peptide'])], set_labels = ('WF tot', 'WF intersection'), set_colors=color)\n",
    "plt.title('WF intersection as part of total WF')"
   ]
  },
  {
   "cell_type": "code",
   "execution_count": 8,
   "metadata": {},
   "outputs": [
    {
     "data": {
      "text/plain": [
       "Text(0.5, 1.0, 'WF vs non-infected overlap')"
      ]
     },
     "execution_count": 8,
     "metadata": {},
     "output_type": "execute_result"
    },
    {
     "data": {
      "image/png": "[encoded data removed]",
      "text/plain": [
       "<Figure size 432x288 with 1 Axes>"
      ]
     },
     "metadata": {},
     "output_type": "display_data"
    }
   ],
   "source": [
    "venn2([set(df_WF['Peptide']), set(df_ninf['Peptide'])], set_labels = ('WF', 'non-inf'), set_colors=color)\n",
    "plt.title('WF vs non-infected overlap')"
   ]
  },
  {
   "cell_type": "code",
   "execution_count": 9,
   "metadata": {},
   "outputs": [],
   "source": [
    "df_inf_same=df_inf.loc[(df_inf['count']==3)]\n",
    "\n",
    "df_ninf_inf=df_ninf_same.append(df_inf_same)\n",
    "df_ninf_inf.reset_index()\n",
    "df_ninf_inf=df_ninf_inf.groupby(['Accession','Peptide']).sum()\n",
    "df_ninf_inf=df_ninf_inf.sort_values(['count','#Feature'], ascending=False)\n",
    "df_ninf_inf['Difference (ninf-inf)']=((df_ninf_inf['#Feature Sample 13']+df_ninf_inf['#Feature Sample 21']+df_ninf_inf['#Feature Sample 33'])/3)-((df_ninf_inf['#Feature Sample 31']+df_ninf_inf['#Feature Sample 34']+df_ninf_inf['#Feature Sample 39'])/3)\n",
    "df_ninf_inf=df_ninf_inf.sort_values(['Difference (ninf-inf)'], ascending=True)\n",
    "df_ninf_inf.reset_index(inplace=True)\n",
    "df_ninf_inf.sort_values(['Difference (ninf-inf)'])\n",
    "df_ninf_inf['std ninf']=df_ninf_inf[['#Feature Sample 13', '#Feature Sample 21', '#Feature Sample 33']].std(axis = 1, skipna = True) \n",
    "df_ninf_inf['std inf']=df_ninf_inf[['#Feature Sample 31', '#Feature Sample 34', '#Feature Sample 39']].std(axis = 1, skipna = True)"
   ]
  },
  {
   "cell_type": "code",
   "execution_count": 10,
   "metadata": {},
   "outputs": [
    {
     "data": {
      "text/html": [
       "<div>\n",
       "<style scoped>\n",
       "    .dataframe tbody tr th:only-of-type {\n",
       "        vertical-align: middle;\n",
       "    }\n",
       "\n",
       "    .dataframe tbody tr th {\n",
       "        vertical-align: top;\n",
       "    }\n",
       "\n",
       "    .dataframe thead th {\n",
       "        text-align: right;\n",
       "    }\n",
       "</style>\n",
       "<table border=\"1\" class=\"dataframe\">\n",
       "  <thead>\n",
       "    <tr style=\"text-align: right;\">\n",
       "      <th></th>\n",
       "      <th>Accession</th>\n",
       "      <th>_merge</th>\n",
       "      <th>Peptide</th>\n",
       "    </tr>\n",
       "  </thead>\n",
       "  <tbody>\n",
       "    <tr>\n",
       "      <th>0</th>\n",
       "      <td>sp|P68871|HBB_HUMAN</td>\n",
       "      <td>left_only</td>\n",
       "      <td>EVGGEALGRLLV</td>\n",
       "    </tr>\n",
       "    <tr>\n",
       "      <th>1</th>\n",
       "      <td>sp|P02768|ALBU_HUMAN</td>\n",
       "      <td>left_only</td>\n",
       "      <td>ASQAALGL</td>\n",
       "    </tr>\n",
       "    <tr>\n",
       "      <th>2</th>\n",
       "      <td>sp|P69905|HBA_HUMAN</td>\n",
       "      <td>left_only</td>\n",
       "      <td>TNAVAHVDDMPNALSAL</td>\n",
       "    </tr>\n",
       "    <tr>\n",
       "      <th>3</th>\n",
       "      <td>sp|P62805|H4_HUMAN</td>\n",
       "      <td>left_only</td>\n",
       "      <td>FLENVIRDAVTY</td>\n",
       "    </tr>\n",
       "    <tr>\n",
       "      <th>4</th>\n",
       "      <td>sp|P68871|HBB_HUMAN:sp|P02042|HBD_HUMAN</td>\n",
       "      <td>left_only</td>\n",
       "      <td>HLDNLKGT</td>\n",
       "    </tr>\n",
       "    <tr>\n",
       "      <th>5</th>\n",
       "      <td>sp|P69905|HBA_HUMAN</td>\n",
       "      <td>left_only</td>\n",
       "      <td>GKVGAHAGEYGAEALER</td>\n",
       "    </tr>\n",
       "    <tr>\n",
       "      <th>6</th>\n",
       "      <td>sp|P69905|HBA_HUMAN</td>\n",
       "      <td>left_only</td>\n",
       "      <td>VADALTNAV</td>\n",
       "    </tr>\n",
       "    <tr>\n",
       "      <th>7</th>\n",
       "      <td>sp|P02652|APOA2_HUMAN</td>\n",
       "      <td>left_only</td>\n",
       "      <td>SPELQAEAK</td>\n",
       "    </tr>\n",
       "    <tr>\n",
       "      <th>8</th>\n",
       "      <td>sp|P68871|HBB_HUMAN</td>\n",
       "      <td>left_only</td>\n",
       "      <td>HLDNLKGTFA</td>\n",
       "    </tr>\n",
       "    <tr>\n",
       "      <th>9</th>\n",
       "      <td>sp|P69905|HBA_HUMAN</td>\n",
       "      <td>left_only</td>\n",
       "      <td>VDDMPNALSAL</td>\n",
       "    </tr>\n",
       "    <tr>\n",
       "      <th>10</th>\n",
       "      <td>sp|P69905|HBA_HUMAN</td>\n",
       "      <td>left_only</td>\n",
       "      <td>DALTNAVAH</td>\n",
       "    </tr>\n",
       "    <tr>\n",
       "      <th>11</th>\n",
       "      <td>sp|P68871|HBB_HUMAN:sp|P02042|HBD_HUMAN</td>\n",
       "      <td>left_only</td>\n",
       "      <td>DGLAHLDNLKGTF</td>\n",
       "    </tr>\n",
       "    <tr>\n",
       "      <th>12</th>\n",
       "      <td>sp|P69905|HBA_HUMAN</td>\n",
       "      <td>left_only</td>\n",
       "      <td>SDLHAHKLRVDPV</td>\n",
       "    </tr>\n",
       "    <tr>\n",
       "      <th>13</th>\n",
       "      <td>sp|P69905|HBA_HUMAN</td>\n",
       "      <td>left_only</td>\n",
       "      <td>ADALTNAVAH</td>\n",
       "    </tr>\n",
       "    <tr>\n",
       "      <th>14</th>\n",
       "      <td>sp|P69905|HBA_HUMAN</td>\n",
       "      <td>left_only</td>\n",
       "      <td>HVDDMPNALSAL</td>\n",
       "    </tr>\n",
       "    <tr>\n",
       "      <th>15</th>\n",
       "      <td>sp|P69905|HBA_HUMAN</td>\n",
       "      <td>left_only</td>\n",
       "      <td>VGAHAGEY</td>\n",
       "    </tr>\n",
       "    <tr>\n",
       "      <th>16</th>\n",
       "      <td>sp|P69905|HBA_HUMAN</td>\n",
       "      <td>left_only</td>\n",
       "      <td>SHGSAQVKGHGK</td>\n",
       "    </tr>\n",
       "    <tr>\n",
       "      <th>17</th>\n",
       "      <td>sp|P68871|HBB_HUMAN</td>\n",
       "      <td>left_only</td>\n",
       "      <td>HLTPEEKSAVTA</td>\n",
       "    </tr>\n",
       "    <tr>\n",
       "      <th>18</th>\n",
       "      <td>sp|P69905|HBA_HUMAN</td>\n",
       "      <td>left_only</td>\n",
       "      <td>LASVSTVLTSKYR</td>\n",
       "    </tr>\n",
       "  </tbody>\n",
       "</table>\n",
       "</div>"
      ],
      "text/plain": [
       "                                  Accession     _merge            Peptide\n",
       "0                       sp|P68871|HBB_HUMAN  left_only       EVGGEALGRLLV\n",
       "1                      sp|P02768|ALBU_HUMAN  left_only           ASQAALGL\n",
       "2                       sp|P69905|HBA_HUMAN  left_only  TNAVAHVDDMPNALSAL\n",
       "3                        sp|P62805|H4_HUMAN  left_only       FLENVIRDAVTY\n",
       "4   sp|P68871|HBB_HUMAN:sp|P02042|HBD_HUMAN  left_only           HLDNLKGT\n",
       "5                       sp|P69905|HBA_HUMAN  left_only  GKVGAHAGEYGAEALER\n",
       "6                       sp|P69905|HBA_HUMAN  left_only          VADALTNAV\n",
       "7                     sp|P02652|APOA2_HUMAN  left_only          SPELQAEAK\n",
       "8                       sp|P68871|HBB_HUMAN  left_only         HLDNLKGTFA\n",
       "9                       sp|P69905|HBA_HUMAN  left_only        VDDMPNALSAL\n",
       "10                      sp|P69905|HBA_HUMAN  left_only          DALTNAVAH\n",
       "11  sp|P68871|HBB_HUMAN:sp|P02042|HBD_HUMAN  left_only      DGLAHLDNLKGTF\n",
       "12                      sp|P69905|HBA_HUMAN  left_only      SDLHAHKLRVDPV\n",
       "13                      sp|P69905|HBA_HUMAN  left_only         ADALTNAVAH\n",
       "14                      sp|P69905|HBA_HUMAN  left_only       HVDDMPNALSAL\n",
       "15                      sp|P69905|HBA_HUMAN  left_only           VGAHAGEY\n",
       "16                      sp|P69905|HBA_HUMAN  left_only       SHGSAQVKGHGK\n",
       "17                      sp|P68871|HBB_HUMAN  left_only       HLTPEEKSAVTA\n",
       "18                      sp|P69905|HBA_HUMAN  left_only      LASVSTVLTSKYR"
      ]
     },
     "execution_count": 10,
     "metadata": {},
     "output_type": "execute_result"
    },
    {
     "data": {
      "image/png": "[encoded data removed]",
      "text/plain": [
       "<Figure size 432x288 with 1 Axes>"
      ]
     },
     "metadata": {},
     "output_type": "display_data"
    }
   ],
   "source": [
    "venn2([set(df_ninf['Peptide']), set(df_inf_same['Peptide'])], set_labels = ('non-inf', 'inf same'), set_colors=color)\n",
    "plt.title('Intersection of infected and non-infected (total) peptidome')\n",
    "biomarker=df_inf_same.merge(df_ninf, on=['Peptide','Accession'], indicator= True, how='outer')\n",
    "biomarker=biomarker[['_merge','Peptide']].sort_values('_merge')\n",
    "biomarker=biomarker.loc[(biomarker['_merge']=='left_only')]\n",
    "biomarker.reset_index(inplace=True)\n",
    "biomarker"
   ]
  },
  {
   "cell_type": "code",
   "execution_count": 11,
   "metadata": {},
   "outputs": [
    {
     "data": {
      "text/plain": [
       "Text(0.5, 1.0, 'Intersected peptidome of WF, infected \\n and non-infected samples')"
      ]
     },
     "execution_count": 11,
     "metadata": {},
     "output_type": "execute_result"
    },
    {
     "data": {
      "image/png": "[encoded data removed]",
      "text/plain": [
       "<Figure size 432x288 with 1 Axes>"
      ]
     },
     "metadata": {},
     "output_type": "display_data"
    }
   ],
   "source": [
    "v=venn3([set(df_ninf_same['Peptide']), set(df_inf_same['Peptide']), set(df_WF_same['Peptide'])], set_labels = ('non-inf', 'inf', 'WF'), set_colors=color)\n",
    "plt.title('Intersected peptidome of WF, infected \\n and non-infected samples')"
   ]
  },
  {
   "cell_type": "markdown",
   "metadata": {},
   "source": [
    "# To heatmap\n"
   ]
  },
  {
   "cell_type": "code",
   "execution_count": 12,
   "metadata": {},
   "outputs": [],
   "source": [
    "mapp='peptide_sample_inf'\n",
    "files = os.listdir(mapp)\n",
    "files_xlsx = [f for f in files if f[-4:] == 'xlsx']\n",
    "df_inf = pd.DataFrame()\n",
    "for file in files_xlsx:\n",
    "    data = pd.read_excel(mapp+ '/' +file, 'peptide')\n",
    "    data['Peptide']=data['Peptide'].str.replace('[^a-zA-Z]','')\n",
    "    data['count']=1\n",
    "    data = data.loc[(data['#Feature'] >= 4)] \n",
    "    data = data.groupby(['Peptide'], as_index=False).sum()\n",
    "    data['Mass']=data['Mass']/data['count']\n",
    "    data['Length']=data['Length']/data['count']\n",
    "    data['RT']=data['RT']/data['count']\n",
    "    df_inf = df_inf.append(data)  # appends all data\n",
    "\n",
    "\n",
    "df_inf['count']=1\n",
    "df_inf= df_inf.groupby(['Peptide'], as_index=False).sum()\n",
    "df_inf = df_inf[['Peptide','#Feature','#Feature Sample 31', '#Feature Sample 34', '#Feature Sample 39','count',]]\n",
    "df_inf = df_inf.sort_values(['Peptide'])\n",
    "\n",
    "\n",
    "mapp='WF'\n",
    "files = os.listdir(mapp)\n",
    "files_xlsx = [f for f in files if f[-4:] == 'xlsx']\n",
    "df_WF = pd.DataFrame()\n",
    "for file in files_xlsx:\n",
    "    data = pd.read_excel(mapp+ '/' +file, 'peptide')\n",
    "    data['Peptide']=data['Peptide'].str.replace('[^a-zA-Z]','')\n",
    "    data['count']=1\n",
    "    data = data.loc[(data['#Feature'] >= 4)] \n",
    "    data = data.groupby(['Peptide'], as_index=False).sum()\n",
    "    data['Mass']=data['Mass']/data['count']\n",
    "    data['Length']=data['Length']/data['count']\n",
    "    data['RT']=data['RT']/data['count']\n",
    "    df_WF = df_WF.append(data)  # appends all data\n",
    "\n",
    "\n",
    "df_WF['count']=1\n",
    "df_WF= df_WF.groupby(['Peptide'], as_index=False).sum()\n",
    "df_WF = df_WF[['Peptide', '#Feature', '#Feature WF1','#Feature WF2', '#Feature WF 3', '#Feature WF4','#Feature WF5','count']]\n",
    "df_WF = df_WF.sort_values(['Peptide'])\n",
    "df_WF\n",
    "\n",
    "mapp='peptide_sample_ninf'\n",
    "files = os.listdir(mapp)\n",
    "files_xlsx = [f for f in files if f[-4:] == 'xlsx']\n",
    "df_ninf = pd.DataFrame()\n",
    "for file in files_xlsx:\n",
    "    data = pd.read_excel(mapp+ '/' +file, 'peptide')\n",
    "    data['Peptide']=data['Peptide'].str.replace('[^a-zA-Z]','')\n",
    "    data['count']=1\n",
    "    data = data.loc[(data['#Feature'] >= 4)] \n",
    "    data = data.groupby(['Peptide'], as_index=False).sum()\n",
    "    data['Mass']=data['Mass']/data['count']\n",
    "    data['Length']=data['Length']/data['count']\n",
    "    data['RT']=data['RT']/data['count']\n",
    "    df_ninf = df_ninf.append(data)  # appends all data\n",
    "\n",
    "\n",
    "df_ninf['count']=1\n",
    "df_ninf= df_ninf.groupby(['Peptide'], as_index=False).sum()\n",
    "df_ninf = df_ninf[['Peptide','#Feature','#Feature Sample 13', '#Feature Sample 21', '#Feature Sample 33','count',]]\n",
    "df_ninf = df_ninf.sort_values(['Peptide'])\n"
   ]
  },
  {
   "cell_type": "code",
   "execution_count": 13,
   "metadata": {},
   "outputs": [
    {
     "data": {
      "text/plain": [
       "<bound method Series.dropna of 32     12.981931\n",
       "339    12.768635\n",
       "73     12.404161\n",
       "388    12.250035\n",
       "35     12.192730\n",
       "         ...    \n",
       "15      0.008134\n",
       "841     0.007656\n",
       "460     0.006792\n",
       "584     0.006155\n",
       "985    -5.000000\n",
       "Length: 1036, dtype: float64>"
      ]
     },
     "execution_count": 13,
     "metadata": {},
     "output_type": "execute_result"
    }
   ],
   "source": [
    "heatmap_inf=pd.read_excel('heatmap.xlsx',sheet_name='inf')\n",
    "heatmap_ninf=pd.read_excel('heatmap.xlsx',sheet_name='ninf')\n",
    "heatmap_WF=pd.read_excel('heatmap.xlsx',sheet_name='WF')\n",
    "\n",
    "df_inf['avg feat']=df_inf['#Feature']/df_inf['count']\n",
    "df_ninf['avg feat']=df_ninf['#Feature']/df_ninf['count']\n",
    "df_WF['avg feat']=df_WF['#Feature']/df_WF['count']\n",
    "\n",
    "inf=df_inf['avg feat']*heatmap_inf['Deep-AmPEP30']\n",
    "ninf=df_ninf['avg feat']*heatmap_ninf['Deep-AmPEP30']\n",
    "WF=df_WF['avg feat']*heatmap_WF['Deep-AmPEP30']\n",
    "inf=inf.sort_values(ascending=False)\n",
    "ninf=ninf.sort_values(ascending=False)\n",
    "WF=WF.sort_values(ascending=False)\n",
    "inf.dropna\n",
    "WF.dropna\n",
    "ninf.dropna\n"
   ]
  },
  {
   "cell_type": "code",
   "execution_count": 14,
   "metadata": {},
   "outputs": [
    {
     "data": {
      "image/png": "[encoded data removed]",
      "text/plain": [
       "<Figure size 432x288 with 2 Axes>"
      ]
     },
     "metadata": {
      "needs_background": "light"
     },
     "output_type": "display_data"
    }
   ],
   "source": [
    "inf=inf[0:50]\n",
    "ninf=ninf[0:50]\n",
    "WF=WF[0:50]\n",
    "ytick=['inf','non-inf','WF']\n",
    "ax = sns.heatmap([inf,ninf, WF] ,vmin=0, vmax=35,cmap=\"YlGnBu\", yticklabels=ytick, xticklabels=False,\n",
    "                 cbar_kws={\"orientation\": \"horizontal\"},)"
   ]
  }
 ],
 "metadata": {
  "kernelspec": {
   "display_name": "Python 3",
   "language": "python",
   "name": "python3"
  },
  "language_info": {
   "codemirror_mode": {
    "name": "ipython",
    "version": 3
   },
   "file_extension": ".py",
   "mimetype": "text/x-python",
   "name": "python",
   "nbconvert_exporter": "python",
   "pygments_lexer": "ipython3",
   "version": "3.7.7"
  }
 },
 "nbformat": 4,
 "nbformat_minor": 4
}
