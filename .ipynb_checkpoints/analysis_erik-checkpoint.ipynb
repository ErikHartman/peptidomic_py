{
 "cells": [
  {
   "cell_type": "code",
   "execution_count": 7,
   "metadata": {},
   "outputs": [],
   "source": [
    "import pandas as pd\n",
    "import jupyterlab\n",
    "import matplotlib.pyplot as plt\n",
    "import os\n",
    "\n",
    "path = os.getcwd()\n",
    "files = os.listdir(path)\n",
    "# gets all xlsx files in cwd\n",
    "files_xlsx = [f for f in files if f[-4:] == 'xlsx']\n",
    "df = pd.DataFrame()\n",
    "for file in files_xlsx:\n",
    "    data = pd.read_excel(file, 'peptide')\n",
    "    df = df.append(data)  # appends all data\n",
    "\n",
    "df = df.loc[(df['#Feature'] >= 4)] # sorts out if feature<4\n",
    "#df[\"F6\"] = df[\"#Feature\"].apply(lambda x: x > 6), df.loc[df['F6]]\n",
    "df['count'] = 1\n",
    "df['cutsite'] = df['Peptide'].apply(lambda x: x[0:4])\n",
    "df = df.drop(['-10lgP', 'ppm', 'm/z', 'Area WF1', 'Area WF2', 'Area WF 3', 'Area WF4', 'Area WF5'], axis=1)\n",
    "df = df.groupby(['Peptide', 'Accession']).sum()\n",
    "df['count*feat'] = df['count'] * df['#Feature']\n",
    "df = df.sort_values(['count*feat'], ascending=False)"
   ]
  },
  {
   "cell_type": "code",
   "execution_count": 6,
   "metadata": {},
   "outputs": [
    {
     "ename": "NameError",
     "evalue": "name 'df' is not defined",
     "output_type": "error",
     "traceback": [
      "\u001b[1;31m---------------------------------------------------------------------------\u001b[0m",
      "\u001b[1;31mNameError\u001b[0m                                 Traceback (most recent call last)",
      "\u001b[1;32m<ipython-input-6-b666bf274d0a>\u001b[0m in \u001b[0;36m<module>\u001b[1;34m\u001b[0m\n\u001b[1;32m----> 1\u001b[1;33m \u001b[0mdf\u001b[0m\u001b[1;33m.\u001b[0m\u001b[0mcolumns\u001b[0m\u001b[1;33m\u001b[0m\u001b[1;33m\u001b[0m\u001b[0m\n\u001b[0m",
      "\u001b[1;31mNameError\u001b[0m: name 'df' is not defined"
     ]
    }
   ],
   "source": [
    "df.columns"
   ]
  }
 ],
 "metadata": {
  "kernelspec": {
   "display_name": "Python 3",
   "language": "python",
   "name": "python3"
  },
  "language_info": {
   "codemirror_mode": {
    "name": "ipython",
    "version": 3
   },
   "file_extension": ".py",
   "mimetype": "text/x-python",
   "name": "python",
   "nbconvert_exporter": "python",
   "pygments_lexer": "ipython3",
   "version": "3.7.6"
  }
 },
 "nbformat": 4,
 "nbformat_minor": 4
}
