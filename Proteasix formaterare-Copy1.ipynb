{
 "cells": [
  {
   "cell_type": "code",
   "execution_count": 1,
   "metadata": {},
   "outputs": [],
   "source": [
    "import pandas as pd\n",
    "import pathlib\n",
    "import os\n",
    "import xlrd\n",
    "import re\n",
    "from pathlib import Path"
   ]
  },
  {
   "cell_type": "code",
   "execution_count": 2,
   "metadata": {},
   "outputs": [
    {
     "name": "stdin",
     "output_type": "stream",
     "text": [
      "Vilken mapp finns filen i? protein-peptide_sample_inf\n",
      "Vad heter filen? protein-peptides_sample_31\n"
     ]
    }
   ],
   "source": [
    "Mapp = input(\"Vilken mapp finns filen i?\")\n",
    "Fil = input (\"Vad heter filen?\")\n",
    "\n",
    "## Read file\n",
    "df = pd.read_excel( Mapp + '/' + Fil + '.xlsx')\n",
    "\n",
    "## Spara endast kort Protein Accession\n",
    "df['Protein Accession'] = df['Protein Accession'].map(lambda x: str(x[3:]) )\n",
    "df['Protein Accession'] = df['Protein Accession'].str[:6]\n",
    "## Ta bort nedströms AA\n",
    "df['Peptide'] = df['Peptide'].map(lambda x: str(x[2:]) )\n"
   ]
  },
  {
   "cell_type": "code",
   "execution_count": 7,
   "metadata": {},
   "outputs": [
    {
     "name": "stdin",
     "output_type": "stream",
     "text": [
      "Vad vill du analysera? Skriv 1 för protein och 2 för hela fil 2\n"
     ]
    }
   ],
   "source": [
    "## välja om analys protein eller fil\n",
    "choice = input(\"Vad vill du analysera? Skriv 1 för protein och 2 för hela fil\")\n",
    "\n",
    "if choice == 1:\n",
    "    protein = input(\"What protein to analyze in file? (short name) \")\n",
    "## Välja vilket Protein som ska analyseras\n",
    "    df = df.loc[(df['Protein Accession'] == protein)]\n",
    "##formatera inför proteasix\n",
    "    df = df[['Protein ID', 'Protein Accession', 'Start', 'End']]\n",
    "## Skapa output som excel med ditt namn\n",
    "    file = input(\"What do you want to name your file?\")\n",
    "    df.to_excel( file + '.xlsx', index=False)\n",
    "if choice == 2:\n",
    "##formatera inför proteasix\n",
    "    df = df[['Protein ID', 'Protein Accession', 'Start', 'End']]\n",
    "## Skapa output som excel med ditt namn\n",
    "    file = input(\"What do you want to name your file?\")\n",
    "    df.to_excel( file + '.xlsx', index=False)"
   ]
  },
  {
   "cell_type": "code",
   "execution_count": null,
   "metadata": {},
   "outputs": [],
   "source": []
  }
 ],
 "metadata": {
  "kernelspec": {
   "display_name": "Python 3",
   "language": "python",
   "name": "python3"
  },
  "language_info": {
   "codemirror_mode": {
    "name": "ipython",
    "version": 3
   },
   "file_extension": ".py",
   "mimetype": "text/x-python",
   "name": "python",
   "nbconvert_exporter": "python",
   "pygments_lexer": "ipython3",
   "version": "3.8.3"
  }
 },
 "nbformat": 4,
 "nbformat_minor": 4
}
