{
 "cells": [
  {
   "cell_type": "code",
   "execution_count": 10,
   "metadata": {},
   "outputs": [
    {
     "ename": "TypeError",
     "evalue": "'function' object is not subscriptable",
     "output_type": "error",
     "traceback": [
      "\u001b[1;31m---------------------------------------------------------------------------\u001b[0m",
      "\u001b[1;31mTypeError\u001b[0m                                 Traceback (most recent call last)",
      "\u001b[1;32m<ipython-input-10-0afeb37db9f1>\u001b[0m in \u001b[0;36m<module>\u001b[1;34m\u001b[0m\n\u001b[0;32m     20\u001b[0m     \u001b[1;32mreturn\u001b[0m \u001b[0mgrouped\u001b[0m\u001b[1;33m\u001b[0m\u001b[1;33m\u001b[0m\u001b[0m\n\u001b[0;32m     21\u001b[0m \u001b[1;33m\u001b[0m\u001b[0m\n\u001b[1;32m---> 22\u001b[1;33m \u001b[0mgroup\u001b[0m\u001b[1;33m[\u001b[0m\u001b[1;34m'QRW'\u001b[0m\u001b[1;33m,\u001b[0m\u001b[1;34m'MML'\u001b[0m\u001b[1;33m]\u001b[0m\u001b[1;33m\u001b[0m\u001b[1;33m\u001b[0m\u001b[0m\n\u001b[0m",
      "\u001b[1;31mTypeError\u001b[0m: 'function' object is not subscriptable"
     ]
    }
   ],
   "source": [
    "#Groups aminoacid based on polarity/acidity\n",
    "def group(list):\n",
    "    grouped=[]\n",
    "    nonpolar=['G','A','V','L','I','P','F','W','M']\n",
    "    polar=['S','T','C','Y','N','Q']\n",
    "    basic=['K','R','H']\n",
    "    acidic=['D','E']\n",
    "    for item in list:\n",
    "        new_item=''\n",
    "        for letter in item:\n",
    "            if letter in nonpolar:\n",
    "                new_item+='N'\n",
    "            if letter in polar:\n",
    "                new_item+='P'\n",
    "            if letter in basic:\n",
    "                new_item+='B'\n",
    "            if letter in acidic:\n",
    "                new_item+='A'\n",
    "        grouped.append(new_item)\n",
    "    return grouped"
   ]
  },
  {
   "cell_type": "code",
   "execution_count": 5,
   "metadata": {},
   "outputs": [
    {
     "data": {
      "text/plain": [
       "{'A': 2, 'G': 1}"
      ]
     },
     "execution_count": 5,
     "metadata": {},
     "output_type": "execute_result"
    }
   ],
   "source": [
    "def get_letter_frequency(list):\n",
    "    letters={'A':0,\n",
    "             'G':0\n",
    "    }\n",
    "    for word in list:\n",
    "        for letter in word:\n",
    "            if letter in letters:\n",
    "                letters[letter]=letters[letter]+1\n",
    "    return letters"
   ]
  }
 ],
 "metadata": {
  "kernelspec": {
   "display_name": "Python 3",
   "language": "python",
   "name": "python3"
  },
  "language_info": {
   "codemirror_mode": {
    "name": "ipython",
    "version": 3
   },
   "file_extension": ".py",
   "mimetype": "text/x-python",
   "name": "python",
   "nbconvert_exporter": "python",
   "pygments_lexer": "ipython3",
   "version": "3.7.7"
  }
 },
 "nbformat": 4,
 "nbformat_minor": 4
}
