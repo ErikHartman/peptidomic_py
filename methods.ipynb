{
 "cells": [
  {
   "cell_type": "code",
   "execution_count": 9,
   "metadata": {},
   "outputs": [
    {
     "data": {
      "text/plain": [
       "['NNB', 'PPN']"
      ]
     },
     "execution_count": 9,
     "metadata": {},
     "output_type": "execute_result"
    }
   ],
   "source": [
    "#Groups aminoacid based on polarity/acidity\n",
    "def group(list):\n",
    "    grouped=[]\n",
    "    nonpolar=['G','A','V','L','I','P','F','W','M']\n",
    "    polar=['S','T','C','Y','N','Q']\n",
    "    basic=['K','R','H']\n",
    "    acidic=['D','E']\n",
    "    for item in list:\n",
    "        new_item=''\n",
    "        for letter in item:\n",
    "            if letter in nonpolar:\n",
    "                new_item+='N'\n",
    "            if letter in polar:\n",
    "                new_item+='P'\n",
    "            if letter in basic:\n",
    "                new_item+='B'\n",
    "            if letter in acidic:\n",
    "                new_item+='A'\n",
    "        grouped.append(new_item)\n",
    "    return grouped\n",
    "aa=['AVK', 'QQP']\n",
    "group(aa)"
   ]
  }
 ],
 "metadata": {
  "kernelspec": {
   "display_name": "Python 3",
   "language": "python",
   "name": "python3"
  },
  "language_info": {
   "codemirror_mode": {
    "name": "ipython",
    "version": 3
   },
   "file_extension": ".py",
   "mimetype": "text/x-python",
   "name": "python",
   "nbconvert_exporter": "python",
   "pygments_lexer": "ipython3",
   "version": "3.7.7"
  }
 },
 "nbformat": 4,
 "nbformat_minor": 4
}
